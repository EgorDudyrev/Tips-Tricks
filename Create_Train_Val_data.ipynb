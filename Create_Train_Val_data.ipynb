{
 "cells": [
  {
   "cell_type": "code",
   "execution_count": 10,
   "metadata": {},
   "outputs": [],
   "source": [
    "import sys\n",
    "import os\n",
    "import re"
   ]
  },
  {
   "cell_type": "code",
   "execution_count": 26,
   "metadata": {},
   "outputs": [],
   "source": [
    "from shutil import copyfile"
   ]
  },
  {
   "cell_type": "code",
   "execution_count": 16,
   "metadata": {},
   "outputs": [],
   "source": [
    "import numpy as np"
   ]
  },
  {
   "cell_type": "code",
   "execution_count": 41,
   "metadata": {},
   "outputs": [],
   "source": [
    "from tqdm.notebook import tqdm"
   ]
  },
  {
   "cell_type": "code",
   "execution_count": 7,
   "metadata": {},
   "outputs": [
    {
     "data": {
      "text/plain": [
       "['Negative', 'NumBase']"
      ]
     },
     "execution_count": 7,
     "metadata": {},
     "output_type": "execute_result"
    }
   ],
   "source": [
    "os.listdir('data/CropNumbers')"
   ]
  },
  {
   "cell_type": "code",
   "execution_count": 8,
   "metadata": {},
   "outputs": [],
   "source": [
    "DIR_FROM = 'data/CropNumbers/NumBase'"
   ]
  },
  {
   "cell_type": "code",
   "execution_count": 12,
   "metadata": {},
   "outputs": [],
   "source": [
    "fnames = [f for f in os.listdir(DIR_FROM)\n",
    "          if re.fullmatch('[a-zA-Z]\\d{3}[a-zA-Z]{2} \\d+\\.bmp', f) is not None]"
   ]
  },
  {
   "cell_type": "code",
   "execution_count": 19,
   "metadata": {},
   "outputs": [],
   "source": [
    "train_size = int(len(fnames)*0.85)\n",
    "val_size = len(fnames)-train_size"
   ]
  },
  {
   "cell_type": "code",
   "execution_count": 56,
   "metadata": {},
   "outputs": [],
   "source": [
    "train_fnames = np.random.choice(fnames, size=train_size)\n",
    "val_fnames = [f for f in fnames if f not in train_fnames]"
   ]
  },
  {
   "cell_type": "code",
   "execution_count": 43,
   "metadata": {},
   "outputs": [
    {
     "data": {
      "application/vnd.jupyter.widget-view+json": {
       "model_id": "",
       "version_major": 2,
       "version_minor": 0
      },
      "text/plain": [
       "HBox(children=(FloatProgress(value=0.0, max=3487.0), HTML(value='')))"
      ]
     },
     "metadata": {},
     "output_type": "display_data"
    },
    {
     "name": "stdout",
     "output_type": "stream",
     "text": [
      "\n"
     ]
    }
   ],
   "source": [
    "for f in tqdm(train_fnames):\n",
    "    copyfile(os.path.join(DIR_FROM, f), os.path.join('CropNumbers/train',f))"
   ]
  },
  {
   "cell_type": "code",
   "execution_count": 57,
   "metadata": {},
   "outputs": [
    {
     "data": {
      "application/vnd.jupyter.widget-view+json": {
       "model_id": "62161d1736154f4bb280e82f502d68f3",
       "version_major": 2,
       "version_minor": 0
      },
      "text/plain": [
       "HBox(children=(FloatProgress(value=0.0, max=1729.0), HTML(value='')))"
      ]
     },
     "metadata": {},
     "output_type": "display_data"
    },
    {
     "name": "stdout",
     "output_type": "stream",
     "text": [
      "\n"
     ]
    }
   ],
   "source": [
    "for f in tqdm(val_fnames):\n",
    "    copyfile(os.path.join(DIR_FROM, f), os.path.join('CropNumbers/val',f))"
   ]
  },
  {
   "cell_type": "code",
   "execution_count": null,
   "metadata": {},
   "outputs": [],
   "source": []
  },
  {
   "cell_type": "code",
   "execution_count": 61,
   "metadata": {},
   "outputs": [
    {
     "data": {
      "text/plain": [
       "array([[[ 16, 202, 224],\n",
       "        [130,  92, 150],\n",
       "        [ 10, 136,  14],\n",
       "        ...,\n",
       "        [119, 120,  82],\n",
       "        [221,  95, 250],\n",
       "        [185,  32,  49]],\n",
       "\n",
       "       [[146,  41,  80],\n",
       "        [137, 245, 250],\n",
       "        [167, 190, 106],\n",
       "        ...,\n",
       "        [139,  90,  61],\n",
       "        [ 59,  76,  70],\n",
       "        [122, 240,  32]],\n",
       "\n",
       "       [[ 64,  87, 104],\n",
       "        [  1,  85, 193],\n",
       "        [ 63,  28,  17],\n",
       "        ...,\n",
       "        [187, 110, 232],\n",
       "        [249, 166, 154],\n",
       "        [175, 144, 162]],\n",
       "\n",
       "       ...,\n",
       "\n",
       "       [[183,  13, 105],\n",
       "        [158, 245, 251],\n",
       "        [ 68, 208, 171],\n",
       "        ...,\n",
       "        [ 67, 139,  73],\n",
       "        [ 73, 183,  63],\n",
       "        [ 70, 148, 181]],\n",
       "\n",
       "       [[245, 161, 131],\n",
       "        [136,  56, 226],\n",
       "        [ 55, 240, 225],\n",
       "        ...,\n",
       "        [ 29, 218, 165],\n",
       "        [ 90,  88, 198],\n",
       "        [  2,  52,  27]],\n",
       "\n",
       "       [[ 72, 148,  98],\n",
       "        [221,  57,  54],\n",
       "        [180,  15, 169],\n",
       "        ...,\n",
       "        [ 95,  93, 182],\n",
       "        [249, 107,  70],\n",
       "        [ 13,  36, 113]]])"
      ]
     },
     "execution_count": 61,
     "metadata": {},
     "output_type": "execute_result"
    }
   ],
   "source": []
  }
 ],
 "metadata": {
  "kernelspec": {
   "display_name": "Python 3",
   "language": "python",
   "name": "python3"
  },
  "language_info": {
   "codemirror_mode": {
    "name": "ipython",
    "version": 3
   },
   "file_extension": ".py",
   "mimetype": "text/x-python",
   "name": "python",
   "nbconvert_exporter": "python",
   "pygments_lexer": "ipython3",
   "version": "3.7.1"
  }
 },
 "nbformat": 4,
 "nbformat_minor": 2
}
